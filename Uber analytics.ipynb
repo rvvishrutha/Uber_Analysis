{
 "cells": [
  {
   "cell_type": "markdown",
   "metadata": {},
   "source": [
    "# Uber Analysis"
   ]
  },
  {
   "cell_type": "markdown",
   "metadata": {},
   "source": [
    "### Importing the libraries"
   ]
  },
  {
   "cell_type": "code",
   "execution_count": 1,
   "metadata": {
    "id": "-PA47mbr-zRU"
   },
   "outputs": [],
   "source": [
    "#Mathematical  Libraries\n",
    "import numpy as np\n",
    "import pandas as pd\n",
    "\n",
    "# Visualizations Libraries\n",
    "import matplotlib.pyplot as plt\n",
    "%matplotlib inline\n",
    "import seaborn as sns\n",
    "\n",
    "# DateTime Libraries\n",
    "import time, datetime\n",
    "\n",
    "# Remove Warnings\n",
    "import warnings\n",
    "warnings.filterwarnings('ignore')"
   ]
  },
  {
   "cell_type": "markdown",
   "metadata": {},
   "source": [
    "### Loading the Dataframe"
   ]
  },
  {
   "cell_type": "code",
   "execution_count": 2,
   "metadata": {
    "colab": {
     "base_uri": "https://localhost:8080/",
     "height": 354
    },
    "executionInfo": {
     "elapsed": 250,
     "status": "error",
     "timestamp": 1625493916556,
     "user": {
      "displayName": "Madhav Jauhari",
      "photoUrl": "https://lh3.googleusercontent.com/a-/AOh14Gghbg8rb_f6ibKyinX6HSh3SIDBJelyamAMDxGC55Y=s64",
      "userId": "13105489007187997014"
     },
     "user_tz": -330
    },
    "id": "8Immw89j-zRb",
    "outputId": "d1760332-2df5-4136-a1ab-ad9f260ba951"
   },
   "outputs": [
    {
     "data": {
      "text/html": [
       "<div>\n",
       "<style scoped>\n",
       "    .dataframe tbody tr th:only-of-type {\n",
       "        vertical-align: middle;\n",
       "    }\n",
       "\n",
       "    .dataframe tbody tr th {\n",
       "        vertical-align: top;\n",
       "    }\n",
       "\n",
       "    .dataframe thead th {\n",
       "        text-align: right;\n",
       "    }\n",
       "</style>\n",
       "<table border=\"1\" class=\"dataframe\">\n",
       "  <thead>\n",
       "    <tr style=\"text-align: right;\">\n",
       "      <th></th>\n",
       "      <th>START_DATE*</th>\n",
       "      <th>END_DATE*</th>\n",
       "      <th>CATEGORY*</th>\n",
       "      <th>START*</th>\n",
       "      <th>STOP*</th>\n",
       "      <th>MILES*</th>\n",
       "      <th>PURPOSE*</th>\n",
       "    </tr>\n",
       "  </thead>\n",
       "  <tbody>\n",
       "    <tr>\n",
       "      <th>0</th>\n",
       "      <td>1/1/2016 21:11</td>\n",
       "      <td>1/1/2016 21:17</td>\n",
       "      <td>Business</td>\n",
       "      <td>Fort Pierce</td>\n",
       "      <td>Fort Pierce</td>\n",
       "      <td>5.1</td>\n",
       "      <td>Meal/Entertain</td>\n",
       "    </tr>\n",
       "    <tr>\n",
       "      <th>1</th>\n",
       "      <td>1/2/2016 1:25</td>\n",
       "      <td>1/2/2016 1:37</td>\n",
       "      <td>Business</td>\n",
       "      <td>Fort Pierce</td>\n",
       "      <td>Fort Pierce</td>\n",
       "      <td>5.0</td>\n",
       "      <td>NaN</td>\n",
       "    </tr>\n",
       "    <tr>\n",
       "      <th>2</th>\n",
       "      <td>1/2/2016 20:25</td>\n",
       "      <td>1/2/2016 20:38</td>\n",
       "      <td>Business</td>\n",
       "      <td>Fort Pierce</td>\n",
       "      <td>Fort Pierce</td>\n",
       "      <td>4.8</td>\n",
       "      <td>Errand/Supplies</td>\n",
       "    </tr>\n",
       "    <tr>\n",
       "      <th>3</th>\n",
       "      <td>1/5/2016 17:31</td>\n",
       "      <td>1/5/2016 17:45</td>\n",
       "      <td>Business</td>\n",
       "      <td>Fort Pierce</td>\n",
       "      <td>Fort Pierce</td>\n",
       "      <td>4.7</td>\n",
       "      <td>Meeting</td>\n",
       "    </tr>\n",
       "    <tr>\n",
       "      <th>4</th>\n",
       "      <td>1/6/2016 14:42</td>\n",
       "      <td>1/6/2016 15:49</td>\n",
       "      <td>Business</td>\n",
       "      <td>Fort Pierce</td>\n",
       "      <td>West Palm Beach</td>\n",
       "      <td>63.7</td>\n",
       "      <td>Customer Visit</td>\n",
       "    </tr>\n",
       "  </tbody>\n",
       "</table>\n",
       "</div>"
      ],
      "text/plain": [
       "      START_DATE*       END_DATE* CATEGORY*       START*            STOP*  \\\n",
       "0  1/1/2016 21:11  1/1/2016 21:17  Business  Fort Pierce      Fort Pierce   \n",
       "1   1/2/2016 1:25   1/2/2016 1:37  Business  Fort Pierce      Fort Pierce   \n",
       "2  1/2/2016 20:25  1/2/2016 20:38  Business  Fort Pierce      Fort Pierce   \n",
       "3  1/5/2016 17:31  1/5/2016 17:45  Business  Fort Pierce      Fort Pierce   \n",
       "4  1/6/2016 14:42  1/6/2016 15:49  Business  Fort Pierce  West Palm Beach   \n",
       "\n",
       "   MILES*         PURPOSE*  \n",
       "0     5.1   Meal/Entertain  \n",
       "1     5.0              NaN  \n",
       "2     4.8  Errand/Supplies  \n",
       "3     4.7          Meeting  \n",
       "4    63.7   Customer Visit  "
      ]
     },
     "execution_count": 2,
     "metadata": {},
     "output_type": "execute_result"
    }
   ],
   "source": [
    "#loading the dataframe\n",
    "df = pd.read_csv(\"uber.csv\")\n",
    "df.head()"
   ]
  },
  {
   "cell_type": "markdown",
   "metadata": {},
   "source": [
    "**Removing special characters**"
   ]
  },
  {
   "cell_type": "code",
   "execution_count": 3,
   "metadata": {
    "id": "gj8B__Uw-zRf",
    "scrolled": true
   },
   "outputs": [
    {
     "data": {
      "text/html": [
       "<div>\n",
       "<style scoped>\n",
       "    .dataframe tbody tr th:only-of-type {\n",
       "        vertical-align: middle;\n",
       "    }\n",
       "\n",
       "    .dataframe tbody tr th {\n",
       "        vertical-align: top;\n",
       "    }\n",
       "\n",
       "    .dataframe thead th {\n",
       "        text-align: right;\n",
       "    }\n",
       "</style>\n",
       "<table border=\"1\" class=\"dataframe\">\n",
       "  <thead>\n",
       "    <tr style=\"text-align: right;\">\n",
       "      <th></th>\n",
       "      <th>START_DATE</th>\n",
       "      <th>END_DATE</th>\n",
       "      <th>CATEGORY</th>\n",
       "      <th>START</th>\n",
       "      <th>STOP</th>\n",
       "      <th>MILES</th>\n",
       "      <th>PURPOSE</th>\n",
       "    </tr>\n",
       "  </thead>\n",
       "  <tbody>\n",
       "    <tr>\n",
       "      <th>0</th>\n",
       "      <td>1/1/2016 21:11</td>\n",
       "      <td>1/1/2016 21:17</td>\n",
       "      <td>Business</td>\n",
       "      <td>Fort Pierce</td>\n",
       "      <td>Fort Pierce</td>\n",
       "      <td>5.1</td>\n",
       "      <td>Meal/Entertain</td>\n",
       "    </tr>\n",
       "    <tr>\n",
       "      <th>1</th>\n",
       "      <td>1/2/2016 1:25</td>\n",
       "      <td>1/2/2016 1:37</td>\n",
       "      <td>Business</td>\n",
       "      <td>Fort Pierce</td>\n",
       "      <td>Fort Pierce</td>\n",
       "      <td>5.0</td>\n",
       "      <td>NaN</td>\n",
       "    </tr>\n",
       "    <tr>\n",
       "      <th>2</th>\n",
       "      <td>1/2/2016 20:25</td>\n",
       "      <td>1/2/2016 20:38</td>\n",
       "      <td>Business</td>\n",
       "      <td>Fort Pierce</td>\n",
       "      <td>Fort Pierce</td>\n",
       "      <td>4.8</td>\n",
       "      <td>Errand/Supplies</td>\n",
       "    </tr>\n",
       "    <tr>\n",
       "      <th>3</th>\n",
       "      <td>1/5/2016 17:31</td>\n",
       "      <td>1/5/2016 17:45</td>\n",
       "      <td>Business</td>\n",
       "      <td>Fort Pierce</td>\n",
       "      <td>Fort Pierce</td>\n",
       "      <td>4.7</td>\n",
       "      <td>Meeting</td>\n",
       "    </tr>\n",
       "    <tr>\n",
       "      <th>4</th>\n",
       "      <td>1/6/2016 14:42</td>\n",
       "      <td>1/6/2016 15:49</td>\n",
       "      <td>Business</td>\n",
       "      <td>Fort Pierce</td>\n",
       "      <td>West Palm Beach</td>\n",
       "      <td>63.7</td>\n",
       "      <td>Customer Visit</td>\n",
       "    </tr>\n",
       "  </tbody>\n",
       "</table>\n",
       "</div>"
      ],
      "text/plain": [
       "       START_DATE        END_DATE  CATEGORY        START             STOP  \\\n",
       "0  1/1/2016 21:11  1/1/2016 21:17  Business  Fort Pierce      Fort Pierce   \n",
       "1   1/2/2016 1:25   1/2/2016 1:37  Business  Fort Pierce      Fort Pierce   \n",
       "2  1/2/2016 20:25  1/2/2016 20:38  Business  Fort Pierce      Fort Pierce   \n",
       "3  1/5/2016 17:31  1/5/2016 17:45  Business  Fort Pierce      Fort Pierce   \n",
       "4  1/6/2016 14:42  1/6/2016 15:49  Business  Fort Pierce  West Palm Beach   \n",
       "\n",
       "   MILES          PURPOSE  \n",
       "0    5.1   Meal/Entertain  \n",
       "1    5.0              NaN  \n",
       "2    4.8  Errand/Supplies  \n",
       "3    4.7          Meeting  \n",
       "4   63.7   Customer Visit  "
      ]
     },
     "execution_count": 3,
     "metadata": {},
     "output_type": "execute_result"
    }
   ],
   "source": [
    "#removing special characters\n",
    "df.columns = df.columns.str.replace(\"*\",\"\")\n",
    "df.head()"
   ]
  },
  {
   "cell_type": "code",
   "execution_count": 37,
   "metadata": {},
   "outputs": [
    {
     "data": {
      "text/plain": [
       "Index(['START_DATE', 'END_DATE', 'CATEGORY', 'START', 'STOP', 'MILES',\n",
       "       'PURPOSE', 'MINUTES', 'MONTH', 'Hour', 'WEEKDAY', 'SPEED in KMPH',\n",
       "       'Round_Trip'],\n",
       "      dtype='object')"
      ]
     },
     "execution_count": 37,
     "metadata": {},
     "output_type": "execute_result"
    }
   ],
   "source": [
    "df.columns"
   ]
  },
  {
   "cell_type": "code",
   "execution_count": 4,
   "metadata": {
    "id": "6cwDLNVt-zRh"
   },
   "outputs": [
    {
     "name": "stdout",
     "output_type": "stream",
     "text": [
      "<class 'pandas.core.frame.DataFrame'>\n",
      "RangeIndex: 1156 entries, 0 to 1155\n",
      "Data columns (total 7 columns):\n",
      " #   Column      Non-Null Count  Dtype  \n",
      "---  ------      --------------  -----  \n",
      " 0   START_DATE  1156 non-null   object \n",
      " 1   END_DATE    1155 non-null   object \n",
      " 2   CATEGORY    1155 non-null   object \n",
      " 3   START       1155 non-null   object \n",
      " 4   STOP        1155 non-null   object \n",
      " 5   MILES       1156 non-null   float64\n",
      " 6   PURPOSE     653 non-null    object \n",
      "dtypes: float64(1), object(6)\n",
      "memory usage: 63.3+ KB\n"
     ]
    }
   ],
   "source": [
    "df.info()"
   ]
  },
  {
   "cell_type": "code",
   "execution_count": 5,
   "metadata": {
    "id": "OWeTi0yV-zRl"
   },
   "outputs": [
    {
     "name": "stdout",
     "output_type": "stream",
     "text": [
      "There are 1156 rows and 7 columns are present in the Data Set\n"
     ]
    }
   ],
   "source": [
    "print(\"There are {} rows and {} columns are present in the Data Set\".format(df.shape[0],df.shape[1]))"
   ]
  },
  {
   "cell_type": "code",
   "execution_count": 6,
   "metadata": {
    "id": "0o5cXqPB-zRm"
   },
   "outputs": [
    {
     "data": {
      "text/html": [
       "<div>\n",
       "<style scoped>\n",
       "    .dataframe tbody tr th:only-of-type {\n",
       "        vertical-align: middle;\n",
       "    }\n",
       "\n",
       "    .dataframe tbody tr th {\n",
       "        vertical-align: top;\n",
       "    }\n",
       "\n",
       "    .dataframe thead th {\n",
       "        text-align: right;\n",
       "    }\n",
       "</style>\n",
       "<table border=\"1\" class=\"dataframe\">\n",
       "  <thead>\n",
       "    <tr style=\"text-align: right;\">\n",
       "      <th></th>\n",
       "      <th>MILES</th>\n",
       "    </tr>\n",
       "  </thead>\n",
       "  <tbody>\n",
       "    <tr>\n",
       "      <th>count</th>\n",
       "      <td>1156.000000</td>\n",
       "    </tr>\n",
       "    <tr>\n",
       "      <th>mean</th>\n",
       "      <td>21.115398</td>\n",
       "    </tr>\n",
       "    <tr>\n",
       "      <th>std</th>\n",
       "      <td>359.299007</td>\n",
       "    </tr>\n",
       "    <tr>\n",
       "      <th>min</th>\n",
       "      <td>0.500000</td>\n",
       "    </tr>\n",
       "    <tr>\n",
       "      <th>25%</th>\n",
       "      <td>2.900000</td>\n",
       "    </tr>\n",
       "    <tr>\n",
       "      <th>50%</th>\n",
       "      <td>6.000000</td>\n",
       "    </tr>\n",
       "    <tr>\n",
       "      <th>75%</th>\n",
       "      <td>10.400000</td>\n",
       "    </tr>\n",
       "    <tr>\n",
       "      <th>max</th>\n",
       "      <td>12204.700000</td>\n",
       "    </tr>\n",
       "  </tbody>\n",
       "</table>\n",
       "</div>"
      ],
      "text/plain": [
       "              MILES\n",
       "count   1156.000000\n",
       "mean      21.115398\n",
       "std      359.299007\n",
       "min        0.500000\n",
       "25%        2.900000\n",
       "50%        6.000000\n",
       "75%       10.400000\n",
       "max    12204.700000"
      ]
     },
     "execution_count": 6,
     "metadata": {},
     "output_type": "execute_result"
    }
   ],
   "source": [
    "df.describe()"
   ]
  },
  {
   "cell_type": "markdown",
   "metadata": {},
   "source": [
    "### Handling missing values"
   ]
  },
  {
   "cell_type": "code",
   "execution_count": 7,
   "metadata": {
    "id": "PYFG7RtP-zRo"
   },
   "outputs": [
    {
     "data": {
      "text/plain": [
       "START_DATE      0\n",
       "END_DATE        1\n",
       "CATEGORY        1\n",
       "START           1\n",
       "STOP            1\n",
       "MILES           0\n",
       "PURPOSE       503\n",
       "dtype: int64"
      ]
     },
     "execution_count": 7,
     "metadata": {},
     "output_type": "execute_result"
    }
   ],
   "source": [
    "#checking for null values\n",
    "df.isnull().sum()"
   ]
  },
  {
   "cell_type": "code",
   "execution_count": 8,
   "metadata": {
    "id": "k9DRu-Dw-zRr"
   },
   "outputs": [
    {
     "data": {
      "image/png": "[encoded data removed]",
      "text/plain": [
       "<Figure size 1800x720 with 3 Axes>"
      ]
     },
     "metadata": {
      "needs_background": "light"
     },
     "output_type": "display_data"
    }
   ],
   "source": [
    "#visualizing the null values for each attribute\n",
    "import missingno as msno\n",
    "msno.bar(df,color='b')\n",
    "plt.show()"
   ]
  },
  {
   "cell_type": "code",
   "execution_count": 9,
   "metadata": {
    "id": "zuiyF2NQ-zRt"
   },
   "outputs": [],
   "source": [
    "#removing the null values of rows\n",
    "df.drop(index = 1155,axis=0, inplace = True)"
   ]
  },
  {
   "cell_type": "code",
   "execution_count": 10,
   "metadata": {},
   "outputs": [
    {
     "data": {
      "text/plain": [
       "PURPOSE    502\n",
       "dtype: int64"
      ]
     },
     "execution_count": 10,
     "metadata": {},
     "output_type": "execute_result"
    }
   ],
   "source": [
    "#checking for null values\n",
    "null_columns=df.columns[df.isnull().any()]\n",
    "df[null_columns].isnull().sum()"
   ]
  },
  {
   "cell_type": "code",
   "execution_count": 11,
   "metadata": {
    "id": "Fowdobj9-zRv"
   },
   "outputs": [
    {
     "name": "stdout",
     "output_type": "stream",
     "text": [
      "43.46320346320346 % of null values present in the dataset in PURPOSE column\n"
     ]
    }
   ],
   "source": [
    "a=df[\"PURPOSE\"].isnull().sum()/len(df)\n",
    "print(a*100, '% of null values present in the dataset in PURPOSE column')"
   ]
  },
  {
   "cell_type": "code",
   "execution_count": 12,
   "metadata": {
    "id": "1wUU7IW3-zRx"
   },
   "outputs": [],
   "source": [
    "# filling the null values using fillna() \n",
    "#ffill is forwadrd fill \n",
    "df[\"PURPOSE\"].fillna(method='ffill', inplace = True) "
   ]
  },
  {
   "cell_type": "code",
   "execution_count": 13,
   "metadata": {
    "id": "9BqVXyex-zRy"
   },
   "outputs": [
    {
     "data": {
      "text/plain": [
       "START_DATE    0\n",
       "END_DATE      0\n",
       "CATEGORY      0\n",
       "START         0\n",
       "STOP          0\n",
       "MILES         0\n",
       "PURPOSE       0\n",
       "dtype: int64"
      ]
     },
     "execution_count": 13,
     "metadata": {},
     "output_type": "execute_result"
    }
   ],
   "source": [
    "df.isnull().sum()"
   ]
  },
  {
   "cell_type": "markdown",
   "metadata": {},
   "source": [
    "**Now all the NAN values are removed**"
   ]
  },
  {
   "cell_type": "markdown",
   "metadata": {},
   "source": [
    "### Datetime Conversion"
   ]
  },
  {
   "cell_type": "code",
   "execution_count": 14,
   "metadata": {
    "id": "4B7OhPVZ-zR0"
   },
   "outputs": [
    {
     "name": "stdout",
     "output_type": "stream",
     "text": [
      "<class 'pandas.core.frame.DataFrame'>\n",
      "Int64Index: 1155 entries, 0 to 1154\n",
      "Data columns (total 7 columns):\n",
      " #   Column      Non-Null Count  Dtype         \n",
      "---  ------      --------------  -----         \n",
      " 0   START_DATE  1155 non-null   datetime64[ns]\n",
      " 1   END_DATE    1155 non-null   datetime64[ns]\n",
      " 2   CATEGORY    1155 non-null   object        \n",
      " 3   START       1155 non-null   object        \n",
      " 4   STOP        1155 non-null   object        \n",
      " 5   MILES       1155 non-null   float64       \n",
      " 6   PURPOSE     1155 non-null   object        \n",
      "dtypes: datetime64[ns](2), float64(1), object(4)\n",
      "memory usage: 72.2+ KB\n"
     ]
    }
   ],
   "source": [
    "df['START_DATE']= pd.to_datetime(df['START_DATE'],errors='coerce')\n",
    "df['END_DATE']= pd.to_datetime(df['END_DATE'],errors='coerce')\n",
    "df.info();\n",
    "\n",
    "\n",
    "# Now time object type changes to datetime"
   ]
  },
  {
   "cell_type": "markdown",
   "metadata": {},
   "source": [
    "### Count of travels as per Category"
   ]
  },
  {
   "cell_type": "code",
   "execution_count": 16,
   "metadata": {
    "id": "8Emiw1JD-zR7"
   },
   "outputs": [
    {
     "data": {
      "text/html": [
       "<div>\n",
       "<style scoped>\n",
       "    .dataframe tbody tr th:only-of-type {\n",
       "        vertical-align: middle;\n",
       "    }\n",
       "\n",
       "    .dataframe tbody tr th {\n",
       "        vertical-align: top;\n",
       "    }\n",
       "\n",
       "    .dataframe thead th {\n",
       "        text-align: right;\n",
       "    }\n",
       "</style>\n",
       "<table border=\"1\" class=\"dataframe\">\n",
       "  <thead>\n",
       "    <tr style=\"text-align: right;\">\n",
       "      <th>col_0</th>\n",
       "      <th>Count of travels as per category</th>\n",
       "    </tr>\n",
       "    <tr>\n",
       "      <th>CATEGORY</th>\n",
       "      <th></th>\n",
       "    </tr>\n",
       "  </thead>\n",
       "  <tbody>\n",
       "    <tr>\n",
       "      <th>Business</th>\n",
       "      <td>1078</td>\n",
       "    </tr>\n",
       "    <tr>\n",
       "      <th>Personal</th>\n",
       "      <td>77</td>\n",
       "    </tr>\n",
       "  </tbody>\n",
       "</table>\n",
       "</div>"
      ],
      "text/plain": [
       "col_0     Count of travels as per category\n",
       "CATEGORY                                  \n",
       "Business                              1078\n",
       "Personal                                77"
      ]
     },
     "execution_count": 16,
     "metadata": {},
     "output_type": "execute_result"
    },
    {
     "data": {
      "image/png": "[encoded data removed]",
      "text/plain": [
       "<Figure size 432x288 with 1 Axes>"
      ]
     },
     "metadata": {
      "needs_background": "light"
     },
     "output_type": "display_data"
    }
   ],
   "source": [
    "Category =pd.crosstab(index=df['CATEGORY'],columns='Count of travels as per category')\n",
    "Category.plot(kind='bar',color='g',alpha=0.5)\n",
    "plt.xticks(rotation=45)\n",
    "plt.legend()\n",
    "Category"
   ]
  },
  {
   "cell_type": "markdown",
   "metadata": {},
   "source": [
    "**Places with Highest start points**"
   ]
  },
  {
   "cell_type": "code",
   "execution_count": 17,
   "metadata": {
    "id": "vgirHCTN-zR9"
   },
   "outputs": [
    {
     "name": "stdout",
     "output_type": "stream",
     "text": [
      "Cary                201\n",
      "Unknown Location    148\n",
      "Morrisville          85\n",
      "Whitebridge          68\n",
      "Islamabad            57\n",
      "Durham               37\n",
      "Lahore               36\n",
      "Raleigh              28\n",
      "Kar?chi              27\n",
      "Westpark Place       17\n",
      "Apex                 17\n",
      "Berkeley             16\n",
      "Midtown              14\n",
      "R?walpindi           11\n",
      "Kissimmee            11\n",
      "Kenner               11\n",
      "Name: START, dtype: int64\n"
     ]
    },
    {
     "data": {
      "image/png": "[encoded data removed]",
      "text/plain": [
       "<Figure size 432x288 with 1 Axes>"
      ]
     },
     "metadata": {
      "needs_background": "light"
     },
     "output_type": "display_data"
    }
   ],
   "source": [
    "Start_Place = df.START.value_counts()\n",
    "Start_Place\n",
    "print(Start_Place[Start_Place > 10])\n",
    "\n",
    "Start_Place[Start_Place> 10].plot(kind = \"bar\")\n",
    "plt.tight_layout()\n",
    "plt.show()\n"
   ]
  },
  {
   "cell_type": "markdown",
   "metadata": {},
   "source": [
    "**Start and Stop points with low values**"
   ]
  },
  {
   "cell_type": "code",
   "execution_count": 18,
   "metadata": {
    "id": "esOGSHYJ-zSA",
    "scrolled": true
   },
   "outputs": [
    {
     "data": {
      "text/plain": [
       "Emeryville     10\n",
       "New Orleans    10\n",
       "Downtown        9\n",
       "Banner Elk      8\n",
       "Orlando         8\n",
       "               ..\n",
       "Austin          1\n",
       "Wake Co.        1\n",
       "Sugar Land      1\n",
       "Tenderloin      1\n",
       "Summerwinds     1\n",
       "Name: START, Length: 161, dtype: int64"
      ]
     },
     "execution_count": 18,
     "metadata": {},
     "output_type": "execute_result"
    }
   ],
   "source": [
    "#less number of starting points\n",
    "Start_Place = df.START.value_counts()\n",
    "Start_Place\n",
    "Start_Place[Start_Place <=  10]"
   ]
  },
  {
   "cell_type": "code",
   "execution_count": 19,
   "metadata": {
    "id": "_l7K69YF-zSE",
    "scrolled": true
   },
   "outputs": [
    {
     "data": {
      "text/plain": [
       "New Orleans           10\n",
       "Kenner                10\n",
       "Edgehill Farms        10\n",
       "Central                9\n",
       "Emeryville             9\n",
       "                      ..\n",
       "Chalmette              1\n",
       "Marigny                1\n",
       "Financial District     1\n",
       "Fuquay-Varina          1\n",
       "Summerwinds            1\n",
       "Name: STOP, Length: 173, dtype: int64"
      ]
     },
     "execution_count": 19,
     "metadata": {},
     "output_type": "execute_result"
    }
   ],
   "source": [
    "#Which are the places are having Least STOP points\n",
    "Stop_Place = df.STOP.value_counts()\n",
    "Stop_Place\n",
    "Stop_Place[Stop_Place <=  10]"
   ]
  },
  {
   "cell_type": "markdown",
   "metadata": {},
   "source": [
    "### Maximmum Miles"
   ]
  },
  {
   "cell_type": "code",
   "execution_count": 20,
   "metadata": {
    "id": "1-e7QMM6-zSG"
   },
   "outputs": [
    {
     "data": {
      "image/png": "[encoded data removed]",
      "text/plain": [
       "<Figure size 864x504 with 1 Axes>"
      ]
     },
     "metadata": {
      "needs_background": "light"
     },
     "output_type": "display_data"
    }
   ],
   "source": [
    "#miles value\n",
    "Miles = df.MILES.value_counts()\n",
    "plt.figure(figsize=(12,7))\n",
    "Miles[Miles> 10].plot(kind = \"bar\")\n",
    "plt.tight_layout()\n",
    "plt.show()\n"
   ]
  },
  {
   "cell_type": "markdown",
   "metadata": {},
   "source": [
    "**Places with greater than 10 miles distance**"
   ]
  },
  {
   "cell_type": "code",
   "execution_count": 21,
   "metadata": {
    "id": "aooq0RiZ-zSI",
    "scrolled": false
   },
   "outputs": [
    {
     "name": "stdout",
     "output_type": "stream",
     "text": [
      "Meeting            308\n",
      "Meal/Entertain     245\n",
      "Temporary Site     196\n",
      "Errand/Supplies    173\n",
      "Customer Visit     155\n",
      "Airport/Travel      54\n",
      "Between Offices     18\n",
      "Moving               4\n",
      "Commute              1\n",
      "Charity ($)          1\n",
      "Name: PURPOSE, dtype: int64\n"
     ]
    }
   ],
   "source": [
    "print(df.PURPOSE.value_counts())"
   ]
  },
  {
   "cell_type": "markdown",
   "metadata": {},
   "source": [
    "**Count Plot of Miles**"
   ]
  },
  {
   "cell_type": "code",
   "execution_count": 39,
   "metadata": {
    "id": "u0gK_Ksu-zSH",
    "scrolled": true
   },
   "outputs": [
    {
     "data": {
      "text/html": [
       "<div>\n",
       "<style scoped>\n",
       "    .dataframe tbody tr th:only-of-type {\n",
       "        vertical-align: middle;\n",
       "    }\n",
       "\n",
       "    .dataframe tbody tr th {\n",
       "        vertical-align: top;\n",
       "    }\n",
       "\n",
       "    .dataframe thead th {\n",
       "        text-align: right;\n",
       "    }\n",
       "</style>\n",
       "<table border=\"1\" class=\"dataframe\">\n",
       "  <thead>\n",
       "    <tr style=\"text-align: right;\">\n",
       "      <th>col_0</th>\n",
       "      <th>Count of Miles</th>\n",
       "    </tr>\n",
       "    <tr>\n",
       "      <th>MILES</th>\n",
       "      <th></th>\n",
       "    </tr>\n",
       "  </thead>\n",
       "  <tbody>\n",
       "    <tr>\n",
       "      <th>False</th>\n",
       "      <td>840</td>\n",
       "    </tr>\n",
       "    <tr>\n",
       "      <th>True</th>\n",
       "      <td>315</td>\n",
       "    </tr>\n",
       "  </tbody>\n",
       "</table>\n",
       "</div>"
      ],
      "text/plain": [
       "col_0  Count of Miles\n",
       "MILES                \n",
       "False             840\n",
       "True              315"
      ]
     },
     "execution_count": 39,
     "metadata": {},
     "output_type": "execute_result"
    },
    {
     "data": {
      "image/png": "[encoded data removed]",
      "text/plain": [
       "<Figure size 432x288 with 1 Axes>"
      ]
     },
     "metadata": {
      "needs_background": "light"
     },
     "output_type": "display_data"
    }
   ],
   "source": [
    "Miles =pd.crosstab(index=df[\"MILES\"]>10,columns='Count of Miles')\n",
    "\n",
    "Miles.plot(kind='bar',color='b')\n",
    "plt.legend()\n",
    "Miles\n"
   ]
  },
  {
   "cell_type": "markdown",
   "metadata": {},
   "source": [
    "## Purpose of most cab rides"
   ]
  },
  {
   "cell_type": "code",
   "execution_count": 23,
   "metadata": {
    "id": "2HdjrOBa-zSJ"
   },
   "outputs": [
    {
     "data": {
      "image/png": "[encoded data removed]",
      "text/plain": [
       "<Figure size 1080x432 with 1 Axes>"
      ]
     },
     "metadata": {
      "needs_background": "light"
     },
     "output_type": "display_data"
    }
   ],
   "source": [
    "#Purpose of most cab rides\n",
    "plt.figure(figsize=(15,6))\n",
    "sns.countplot(df['PURPOSE'], order=df['PURPOSE'].value_counts().index, color=sns.color_palette()[0])\n",
    "plt.show()"
   ]
  },
  {
   "cell_type": "markdown",
   "metadata": {},
   "source": [
    "## Relatioship between duration and purpose of Cab rides"
   ]
  },
  {
   "cell_type": "markdown",
   "metadata": {},
   "source": [
    "**Calculation of duration in Minutes**"
   ]
  },
  {
   "cell_type": "code",
   "execution_count": 24,
   "metadata": {
    "id": "eM9ZG_8V-zSL",
    "scrolled": false
   },
   "outputs": [
    {
     "data": {
      "text/html": [
       "<div>\n",
       "<style scoped>\n",
       "    .dataframe tbody tr th:only-of-type {\n",
       "        vertical-align: middle;\n",
       "    }\n",
       "\n",
       "    .dataframe tbody tr th {\n",
       "        vertical-align: top;\n",
       "    }\n",
       "\n",
       "    .dataframe thead th {\n",
       "        text-align: right;\n",
       "    }\n",
       "</style>\n",
       "<table border=\"1\" class=\"dataframe\">\n",
       "  <thead>\n",
       "    <tr style=\"text-align: right;\">\n",
       "      <th></th>\n",
       "      <th>START_DATE</th>\n",
       "      <th>END_DATE</th>\n",
       "      <th>CATEGORY</th>\n",
       "      <th>START</th>\n",
       "      <th>STOP</th>\n",
       "      <th>MILES</th>\n",
       "      <th>PURPOSE</th>\n",
       "      <th>MINUTES</th>\n",
       "    </tr>\n",
       "  </thead>\n",
       "  <tbody>\n",
       "    <tr>\n",
       "      <th>0</th>\n",
       "      <td>2016-01-01 21:11:00</td>\n",
       "      <td>2016-01-01 21:17:00</td>\n",
       "      <td>Business</td>\n",
       "      <td>Fort Pierce</td>\n",
       "      <td>Fort Pierce</td>\n",
       "      <td>5.1</td>\n",
       "      <td>Meal/Entertain</td>\n",
       "      <td>0 days 00:06:00</td>\n",
       "    </tr>\n",
       "    <tr>\n",
       "      <th>1</th>\n",
       "      <td>2016-01-02 01:25:00</td>\n",
       "      <td>2016-01-02 01:37:00</td>\n",
       "      <td>Business</td>\n",
       "      <td>Fort Pierce</td>\n",
       "      <td>Fort Pierce</td>\n",
       "      <td>5.0</td>\n",
       "      <td>Meal/Entertain</td>\n",
       "      <td>0 days 00:12:00</td>\n",
       "    </tr>\n",
       "    <tr>\n",
       "      <th>2</th>\n",
       "      <td>2016-01-02 20:25:00</td>\n",
       "      <td>2016-01-02 20:38:00</td>\n",
       "      <td>Business</td>\n",
       "      <td>Fort Pierce</td>\n",
       "      <td>Fort Pierce</td>\n",
       "      <td>4.8</td>\n",
       "      <td>Errand/Supplies</td>\n",
       "      <td>0 days 00:13:00</td>\n",
       "    </tr>\n",
       "    <tr>\n",
       "      <th>3</th>\n",
       "      <td>2016-01-05 17:31:00</td>\n",
       "      <td>2016-01-05 17:45:00</td>\n",
       "      <td>Business</td>\n",
       "      <td>Fort Pierce</td>\n",
       "      <td>Fort Pierce</td>\n",
       "      <td>4.7</td>\n",
       "      <td>Meeting</td>\n",
       "      <td>0 days 00:14:00</td>\n",
       "    </tr>\n",
       "    <tr>\n",
       "      <th>4</th>\n",
       "      <td>2016-01-06 14:42:00</td>\n",
       "      <td>2016-01-06 15:49:00</td>\n",
       "      <td>Business</td>\n",
       "      <td>Fort Pierce</td>\n",
       "      <td>West Palm Beach</td>\n",
       "      <td>63.7</td>\n",
       "      <td>Customer Visit</td>\n",
       "      <td>0 days 01:07:00</td>\n",
       "    </tr>\n",
       "  </tbody>\n",
       "</table>\n",
       "</div>"
      ],
      "text/plain": [
       "           START_DATE            END_DATE  CATEGORY        START  \\\n",
       "0 2016-01-01 21:11:00 2016-01-01 21:17:00  Business  Fort Pierce   \n",
       "1 2016-01-02 01:25:00 2016-01-02 01:37:00  Business  Fort Pierce   \n",
       "2 2016-01-02 20:25:00 2016-01-02 20:38:00  Business  Fort Pierce   \n",
       "3 2016-01-05 17:31:00 2016-01-05 17:45:00  Business  Fort Pierce   \n",
       "4 2016-01-06 14:42:00 2016-01-06 15:49:00  Business  Fort Pierce   \n",
       "\n",
       "              STOP  MILES          PURPOSE         MINUTES  \n",
       "0      Fort Pierce    5.1   Meal/Entertain 0 days 00:06:00  \n",
       "1      Fort Pierce    5.0   Meal/Entertain 0 days 00:12:00  \n",
       "2      Fort Pierce    4.8  Errand/Supplies 0 days 00:13:00  \n",
       "3      Fort Pierce    4.7          Meeting 0 days 00:14:00  \n",
       "4  West Palm Beach   63.7   Customer Visit 0 days 01:07:00  "
      ]
     },
     "execution_count": 24,
     "metadata": {},
     "output_type": "execute_result"
    }
   ],
   "source": [
    "# calculation of the duration, as there might be some relation of it to PURPOSE of Cab ride.\n",
    "df['MINUTES'] = df.END_DATE - df.START_DATE\n",
    "df.head()"
   ]
  },
  {
   "cell_type": "markdown",
   "metadata": {},
   "source": [
    "**Converting datetime to float type**"
   ]
  },
  {
   "cell_type": "code",
   "execution_count": 25,
   "metadata": {
    "id": "ai16tVvU-zSM"
   },
   "outputs": [
    {
     "data": {
      "text/html": [
       "<div>\n",
       "<style scoped>\n",
       "    .dataframe tbody tr th:only-of-type {\n",
       "        vertical-align: middle;\n",
       "    }\n",
       "\n",
       "    .dataframe tbody tr th {\n",
       "        vertical-align: top;\n",
       "    }\n",
       "\n",
       "    .dataframe thead th {\n",
       "        text-align: right;\n",
       "    }\n",
       "</style>\n",
       "<table border=\"1\" class=\"dataframe\">\n",
       "  <thead>\n",
       "    <tr style=\"text-align: right;\">\n",
       "      <th></th>\n",
       "      <th>START_DATE</th>\n",
       "      <th>END_DATE</th>\n",
       "      <th>CATEGORY</th>\n",
       "      <th>START</th>\n",
       "      <th>STOP</th>\n",
       "      <th>MILES</th>\n",
       "      <th>PURPOSE</th>\n",
       "      <th>MINUTES</th>\n",
       "    </tr>\n",
       "  </thead>\n",
       "  <tbody>\n",
       "    <tr>\n",
       "      <th>0</th>\n",
       "      <td>2016-01-01 21:11:00</td>\n",
       "      <td>2016-01-01 21:17:00</td>\n",
       "      <td>Business</td>\n",
       "      <td>Fort Pierce</td>\n",
       "      <td>Fort Pierce</td>\n",
       "      <td>5.1</td>\n",
       "      <td>Meal/Entertain</td>\n",
       "      <td>6.0</td>\n",
       "    </tr>\n",
       "    <tr>\n",
       "      <th>1</th>\n",
       "      <td>2016-01-02 01:25:00</td>\n",
       "      <td>2016-01-02 01:37:00</td>\n",
       "      <td>Business</td>\n",
       "      <td>Fort Pierce</td>\n",
       "      <td>Fort Pierce</td>\n",
       "      <td>5.0</td>\n",
       "      <td>Meal/Entertain</td>\n",
       "      <td>12.0</td>\n",
       "    </tr>\n",
       "    <tr>\n",
       "      <th>2</th>\n",
       "      <td>2016-01-02 20:25:00</td>\n",
       "      <td>2016-01-02 20:38:00</td>\n",
       "      <td>Business</td>\n",
       "      <td>Fort Pierce</td>\n",
       "      <td>Fort Pierce</td>\n",
       "      <td>4.8</td>\n",
       "      <td>Errand/Supplies</td>\n",
       "      <td>13.0</td>\n",
       "    </tr>\n",
       "    <tr>\n",
       "      <th>3</th>\n",
       "      <td>2016-01-05 17:31:00</td>\n",
       "      <td>2016-01-05 17:45:00</td>\n",
       "      <td>Business</td>\n",
       "      <td>Fort Pierce</td>\n",
       "      <td>Fort Pierce</td>\n",
       "      <td>4.7</td>\n",
       "      <td>Meeting</td>\n",
       "      <td>14.0</td>\n",
       "    </tr>\n",
       "    <tr>\n",
       "      <th>4</th>\n",
       "      <td>2016-01-06 14:42:00</td>\n",
       "      <td>2016-01-06 15:49:00</td>\n",
       "      <td>Business</td>\n",
       "      <td>Fort Pierce</td>\n",
       "      <td>West Palm Beach</td>\n",
       "      <td>63.7</td>\n",
       "      <td>Customer Visit</td>\n",
       "      <td>67.0</td>\n",
       "    </tr>\n",
       "  </tbody>\n",
       "</table>\n",
       "</div>"
      ],
      "text/plain": [
       "           START_DATE            END_DATE  CATEGORY        START  \\\n",
       "0 2016-01-01 21:11:00 2016-01-01 21:17:00  Business  Fort Pierce   \n",
       "1 2016-01-02 01:25:00 2016-01-02 01:37:00  Business  Fort Pierce   \n",
       "2 2016-01-02 20:25:00 2016-01-02 20:38:00  Business  Fort Pierce   \n",
       "3 2016-01-05 17:31:00 2016-01-05 17:45:00  Business  Fort Pierce   \n",
       "4 2016-01-06 14:42:00 2016-01-06 15:49:00  Business  Fort Pierce   \n",
       "\n",
       "              STOP  MILES          PURPOSE  MINUTES  \n",
       "0      Fort Pierce    5.1   Meal/Entertain      6.0  \n",
       "1      Fort Pierce    5.0   Meal/Entertain     12.0  \n",
       "2      Fort Pierce    4.8  Errand/Supplies     13.0  \n",
       "3      Fort Pierce    4.7          Meeting     14.0  \n",
       "4  West Palm Beach   63.7   Customer Visit     67.0  "
      ]
     },
     "execution_count": 25,
     "metadata": {},
     "output_type": "execute_result"
    }
   ],
   "source": [
    "# As Duration is in datetime format, we need to convert it to float type in order to use it for analysis.\n",
    "df['MINUTES'] = df['MINUTES'].dt.total_seconds() /60\n",
    "df.head()"
   ]
  },
  {
   "cell_type": "markdown",
   "metadata": {
    "id": "fJpiVUEu-zSN"
   },
   "source": [
    "**Grouping Purpose by Miles**"
   ]
  },
  {
   "cell_type": "code",
   "execution_count": 26,
   "metadata": {
    "id": "jao2Dvxr-zSO"
   },
   "outputs": [
    {
     "data": {
      "text/html": [
       "<div>\n",
       "<style scoped>\n",
       "    .dataframe tbody tr th:only-of-type {\n",
       "        vertical-align: middle;\n",
       "    }\n",
       "\n",
       "    .dataframe tbody tr th {\n",
       "        vertical-align: top;\n",
       "    }\n",
       "\n",
       "    .dataframe thead th {\n",
       "        text-align: right;\n",
       "    }\n",
       "</style>\n",
       "<table border=\"1\" class=\"dataframe\">\n",
       "  <thead>\n",
       "    <tr style=\"text-align: right;\">\n",
       "      <th></th>\n",
       "      <th>PURPOSE</th>\n",
       "      <th>MEAN</th>\n",
       "    </tr>\n",
       "  </thead>\n",
       "  <tbody>\n",
       "    <tr>\n",
       "      <th>0</th>\n",
       "      <td>Airport/Travel</td>\n",
       "      <td>15.0</td>\n",
       "    </tr>\n",
       "    <tr>\n",
       "      <th>1</th>\n",
       "      <td>Between Offices</td>\n",
       "      <td>10.9</td>\n",
       "    </tr>\n",
       "    <tr>\n",
       "      <th>2</th>\n",
       "      <td>Charity ($)</td>\n",
       "      <td>15.1</td>\n",
       "    </tr>\n",
       "    <tr>\n",
       "      <th>3</th>\n",
       "      <td>Commute</td>\n",
       "      <td>180.2</td>\n",
       "    </tr>\n",
       "    <tr>\n",
       "      <th>4</th>\n",
       "      <td>Customer Visit</td>\n",
       "      <td>16.1</td>\n",
       "    </tr>\n",
       "    <tr>\n",
       "      <th>5</th>\n",
       "      <td>Errand/Supplies</td>\n",
       "      <td>5.9</td>\n",
       "    </tr>\n",
       "    <tr>\n",
       "      <th>6</th>\n",
       "      <td>Meal/Entertain</td>\n",
       "      <td>5.8</td>\n",
       "    </tr>\n",
       "    <tr>\n",
       "      <th>7</th>\n",
       "      <td>Meeting</td>\n",
       "      <td>12.7</td>\n",
       "    </tr>\n",
       "    <tr>\n",
       "      <th>8</th>\n",
       "      <td>Moving</td>\n",
       "      <td>4.6</td>\n",
       "    </tr>\n",
       "    <tr>\n",
       "      <th>9</th>\n",
       "      <td>Temporary Site</td>\n",
       "      <td>11.0</td>\n",
       "    </tr>\n",
       "  </tbody>\n",
       "</table>\n",
       "</div>"
      ],
      "text/plain": [
       "           PURPOSE   MEAN\n",
       "0   Airport/Travel   15.0\n",
       "1  Between Offices   10.9\n",
       "2      Charity ($)   15.1\n",
       "3          Commute  180.2\n",
       "4   Customer Visit   16.1\n",
       "5  Errand/Supplies    5.9\n",
       "6   Meal/Entertain    5.8\n",
       "7          Meeting   12.7\n",
       "8           Moving    4.6\n",
       "9   Temporary Site   11.0"
      ]
     },
     "execution_count": 26,
     "metadata": {},
     "output_type": "execute_result"
    }
   ],
   "source": [
    "#Grouping Purpose by Mile to find pattern\n",
    "pd.DataFrame({'MEAN': df.groupby(['PURPOSE'])['MILES'].mean().round(1)}).reset_index()\n",
    "#Commute has the maximum mean value followed by Customer visit\n"
   ]
  },
  {
   "cell_type": "markdown",
   "metadata": {},
   "source": [
    "**BOX plot of MILES and MINUTES**"
   ]
  },
  {
   "cell_type": "code",
   "execution_count": 27,
   "metadata": {},
   "outputs": [
    {
     "data": {
      "image/png": "[encoded data removed]",
      "text/plain": [
       "<Figure size 1152x504 with 2 Axes>"
      ]
     },
     "metadata": {
      "needs_background": "light"
     },
     "output_type": "display_data"
    }
   ],
   "source": [
    "#BOX plot of MILES and MINUTES split by PURPOSE with outliers\n",
    "plt.figure(figsize=(16,7))\n",
    "plt.subplot(1,2,1)\n",
    "sns.boxplot(data=df, x=df.PURPOSE, y=df.MILES,color=sns.color_palette()[0])\n",
    "plt.xticks(rotation=45)\n",
    "plt.subplot(1,2,2)\n",
    "sns.boxplot(data=df, x=df.PURPOSE, y=df.MINUTES,color=sns.color_palette()[0])\n",
    "plt.xticks(rotation=45);"
   ]
  },
  {
   "cell_type": "code",
   "execution_count": 28,
   "metadata": {
    "id": "Jcew6O10-zSQ"
   },
   "outputs": [
    {
     "data": {
      "image/png": "[encoded data removed]",
      "text/plain": [
       "<Figure size 1152x504 with 2 Axes>"
      ]
     },
     "metadata": {
      "needs_background": "light"
     },
     "output_type": "display_data"
    }
   ],
   "source": [
    "#BOX plot of MILES and MINUTES split by PURPOSE without outliers\n",
    "plt.figure(figsize=(16,7))\n",
    "plt.subplot(1,2,1)\n",
    "sns.boxplot(data=df, x=df.PURPOSE, y=df.MILES,showfliers=False,color=sns.color_palette()[0])\n",
    "plt.xticks(rotation=45)\n",
    "plt.subplot(1,2,2)\n",
    "sns.boxplot(data=df, x=df.PURPOSE, y=df.MINUTES,showfliers=False,color=sns.color_palette()[0])\n",
    "plt.xticks(rotation=45);"
   ]
  },
  {
   "cell_type": "markdown",
   "metadata": {},
   "source": [
    "### Frequency of the trips"
   ]
  },
  {
   "cell_type": "markdown",
   "metadata": {},
   "source": [
    "**Frequency of Trips in each Month**"
   ]
  },
  {
   "cell_type": "code",
   "execution_count": 29,
   "metadata": {},
   "outputs": [
    {
     "data": {
      "image/png": "[encoded data removed]",
      "text/plain": [
       "<Figure size 864x504 with 1 Axes>"
      ]
     },
     "metadata": {
      "needs_background": "light"
     },
     "output_type": "display_data"
    }
   ],
   "source": [
    "#Entering Month Name and evaluating Frequency of Trip in each Month\n",
    "df['MONTH'] = pd.DatetimeIndex(df['START_DATE']).month\n",
    "dic = {1:'Jan', 2: 'Feb', 3: 'Mar', 4: 'April', 5: 'May', 6: 'June', 7: 'July', 8: 'Aug', 9: 'Sep',\n",
    "      10: 'Oct', 11: 'Nov', 12: 'Dec' }\n",
    "\n",
    "df['MONTH'] = df['MONTH'].map(dic)\n",
    "\n",
    "plt.figure(figsize=(12,7))\n",
    "sns.countplot(df['MONTH'],color=sns.color_palette()[0])\n",
    "plt.show()\n",
    "\n"
   ]
  },
  {
   "cell_type": "markdown",
   "metadata": {},
   "source": [
    "**In Weekdays**"
   ]
  },
  {
   "cell_type": "code",
   "execution_count": 30,
   "metadata": {},
   "outputs": [
    {
     "data": {
      "image/png": "[encoded data removed]",
      "text/plain": [
       "<Figure size 432x288 with 1 Axes>"
      ]
     },
     "metadata": {
      "needs_background": "light"
     },
     "output_type": "display_data"
    }
   ],
   "source": [
    "import calendar\n",
    "hour=[]\n",
    "day=[]\n",
    "dayofweek=[]\n",
    "weekday=[]\n",
    "for x in df['START_DATE']:\n",
    "    hour.append(x.hour)\n",
    "    dayofweek.append(x.dayofweek)\n",
    "    weekday.append(calendar.day_name[dayofweek[-1]])\n",
    "df['Hour']=hour\n",
    "df['WEEKDAY']=weekday\n",
    "\n",
    "df['WEEKDAY'].value_counts().plot(kind='bar',color='blue')\n",
    "plt.title('Frequency of trips on weekdays')\n",
    "plt.show();"
   ]
  },
  {
   "cell_type": "markdown",
   "metadata": {},
   "source": [
    "### Calculating the Speed of each ride"
   ]
  },
  {
   "cell_type": "code",
   "execution_count": 31,
   "metadata": {
    "scrolled": true
   },
   "outputs": [
    {
     "data": {
      "text/html": [
       "<div>\n",
       "<style scoped>\n",
       "    .dataframe tbody tr th:only-of-type {\n",
       "        vertical-align: middle;\n",
       "    }\n",
       "\n",
       "    .dataframe tbody tr th {\n",
       "        vertical-align: top;\n",
       "    }\n",
       "\n",
       "    .dataframe thead th {\n",
       "        text-align: right;\n",
       "    }\n",
       "</style>\n",
       "<table border=\"1\" class=\"dataframe\">\n",
       "  <thead>\n",
       "    <tr style=\"text-align: right;\">\n",
       "      <th></th>\n",
       "      <th>START_DATE</th>\n",
       "      <th>END_DATE</th>\n",
       "      <th>CATEGORY</th>\n",
       "      <th>START</th>\n",
       "      <th>STOP</th>\n",
       "      <th>MILES</th>\n",
       "      <th>PURPOSE</th>\n",
       "      <th>MINUTES</th>\n",
       "      <th>MONTH</th>\n",
       "      <th>Hour</th>\n",
       "      <th>WEEKDAY</th>\n",
       "      <th>SPEED in KMPH</th>\n",
       "    </tr>\n",
       "  </thead>\n",
       "  <tbody>\n",
       "    <tr>\n",
       "      <th>1150</th>\n",
       "      <td>2016-12-31 01:07:00</td>\n",
       "      <td>2016-12-31 01:14:00</td>\n",
       "      <td>Business</td>\n",
       "      <td>Kar?chi</td>\n",
       "      <td>Kar?chi</td>\n",
       "      <td>0.7</td>\n",
       "      <td>Meeting</td>\n",
       "      <td>7.0</td>\n",
       "      <td>Dec</td>\n",
       "      <td>1</td>\n",
       "      <td>Saturday</td>\n",
       "      <td>6.000000</td>\n",
       "    </tr>\n",
       "    <tr>\n",
       "      <th>1151</th>\n",
       "      <td>2016-12-31 13:24:00</td>\n",
       "      <td>2016-12-31 13:42:00</td>\n",
       "      <td>Business</td>\n",
       "      <td>Kar?chi</td>\n",
       "      <td>Unknown Location</td>\n",
       "      <td>3.9</td>\n",
       "      <td>Temporary Site</td>\n",
       "      <td>18.0</td>\n",
       "      <td>Dec</td>\n",
       "      <td>13</td>\n",
       "      <td>Saturday</td>\n",
       "      <td>13.000000</td>\n",
       "    </tr>\n",
       "    <tr>\n",
       "      <th>1152</th>\n",
       "      <td>2016-12-31 15:03:00</td>\n",
       "      <td>2016-12-31 15:38:00</td>\n",
       "      <td>Business</td>\n",
       "      <td>Unknown Location</td>\n",
       "      <td>Unknown Location</td>\n",
       "      <td>16.2</td>\n",
       "      <td>Meeting</td>\n",
       "      <td>35.0</td>\n",
       "      <td>Dec</td>\n",
       "      <td>15</td>\n",
       "      <td>Saturday</td>\n",
       "      <td>27.771429</td>\n",
       "    </tr>\n",
       "    <tr>\n",
       "      <th>1153</th>\n",
       "      <td>2016-12-31 21:32:00</td>\n",
       "      <td>2016-12-31 21:50:00</td>\n",
       "      <td>Business</td>\n",
       "      <td>Katunayake</td>\n",
       "      <td>Gampaha</td>\n",
       "      <td>6.4</td>\n",
       "      <td>Temporary Site</td>\n",
       "      <td>18.0</td>\n",
       "      <td>Dec</td>\n",
       "      <td>21</td>\n",
       "      <td>Saturday</td>\n",
       "      <td>21.333333</td>\n",
       "    </tr>\n",
       "    <tr>\n",
       "      <th>1154</th>\n",
       "      <td>2016-12-31 22:08:00</td>\n",
       "      <td>2016-12-31 23:51:00</td>\n",
       "      <td>Business</td>\n",
       "      <td>Gampaha</td>\n",
       "      <td>Ilukwatta</td>\n",
       "      <td>48.2</td>\n",
       "      <td>Temporary Site</td>\n",
       "      <td>103.0</td>\n",
       "      <td>Dec</td>\n",
       "      <td>22</td>\n",
       "      <td>Saturday</td>\n",
       "      <td>28.077670</td>\n",
       "    </tr>\n",
       "  </tbody>\n",
       "</table>\n",
       "</div>"
      ],
      "text/plain": [
       "              START_DATE            END_DATE  CATEGORY             START  \\\n",
       "1150 2016-12-31 01:07:00 2016-12-31 01:14:00  Business           Kar?chi   \n",
       "1151 2016-12-31 13:24:00 2016-12-31 13:42:00  Business           Kar?chi   \n",
       "1152 2016-12-31 15:03:00 2016-12-31 15:38:00  Business  Unknown Location   \n",
       "1153 2016-12-31 21:32:00 2016-12-31 21:50:00  Business        Katunayake   \n",
       "1154 2016-12-31 22:08:00 2016-12-31 23:51:00  Business           Gampaha   \n",
       "\n",
       "                  STOP  MILES         PURPOSE  MINUTES MONTH  Hour   WEEKDAY  \\\n",
       "1150           Kar?chi    0.7         Meeting      7.0   Dec     1  Saturday   \n",
       "1151  Unknown Location    3.9  Temporary Site     18.0   Dec    13  Saturday   \n",
       "1152  Unknown Location   16.2         Meeting     35.0   Dec    15  Saturday   \n",
       "1153           Gampaha    6.4  Temporary Site     18.0   Dec    21  Saturday   \n",
       "1154         Ilukwatta   48.2  Temporary Site    103.0   Dec    22  Saturday   \n",
       "\n",
       "      SPEED in KMPH  \n",
       "1150       6.000000  \n",
       "1151      13.000000  \n",
       "1152      27.771429  \n",
       "1153      21.333333  \n",
       "1154      28.077670  "
      ]
     },
     "execution_count": 31,
     "metadata": {},
     "output_type": "execute_result"
    }
   ],
   "source": [
    "df['SPEED in KMPH']=df['MILES']/(df['MINUTES']/60)\n",
    "df.tail()"
   ]
  },
  {
   "cell_type": "markdown",
   "metadata": {},
   "source": [
    "### Plots of MILES with respect to MINUTES"
   ]
  },
  {
   "cell_type": "code",
   "execution_count": 32,
   "metadata": {
    "id": "LmLJ15P7-zSa",
    "scrolled": true
   },
   "outputs": [
    {
     "data": {
      "image/png": "[encoded data removed]",
      "text/plain": [
       "<Figure size 1008x360 with 2 Axes>"
      ]
     },
     "metadata": {
      "needs_background": "light"
     },
     "output_type": "display_data"
    }
   ],
   "source": [
    "plt.figure(figsize = (14,5))\n",
    "plt.subplot(1,2,1)\n",
    "sns.lineplot(data=df, x=df.MINUTES, y=df.MILES)\n",
    "plt.grid(True, linestyle = \"--\")\n",
    "plt.subplot(1,2,2)\n",
    "sns.scatterplot(data=df, x=df.MINUTES, y=df.MILES)\n",
    "plt.grid(True, linestyle = \"--\")\n",
    "#we see that our conventional logic, that distance is proportional to time, is challenged \n",
    "#as some cab rides took more time for less distance"
   ]
  },
  {
   "cell_type": "markdown",
   "metadata": {},
   "source": [
    "### Distribution of Cab rides based on Category"
   ]
  },
  {
   "cell_type": "code",
   "execution_count": 33,
   "metadata": {
    "id": "kfmxYtb8-zSf"
   },
   "outputs": [
    {
     "data": {
      "image/png": "[encoded data removed]",
      "text/plain": [
       "<Figure size 648x360 with 1 Axes>"
      ]
     },
     "metadata": {
      "needs_background": "light"
     },
     "output_type": "display_data"
    }
   ],
   "source": [
    "plt.figure(figsize = (9,5))\n",
    "sns.countplot(data=df,x=\"PURPOSE\", hue = 'CATEGORY')\n",
    "plt.xticks(rotation = 45)\n",
    "plt.legend(loc=1);\n",
    "\n",
    "#The above plot makes clear distinction on the Purpose of Business rides and Personal rides."
   ]
  },
  {
   "cell_type": "markdown",
   "metadata": {},
   "source": [
    "### Start Location frequency of cab rides"
   ]
  },
  {
   "cell_type": "code",
   "execution_count": 34,
   "metadata": {
    "id": "VIKp4vG6-zSn",
    "scrolled": true
   },
   "outputs": [
    {
     "data": {
      "image/png": "[encoded data removed]",
      "text/plain": [
       "<Figure size 1080x288 with 1 Axes>"
      ]
     },
     "metadata": {
      "needs_background": "light"
     },
     "output_type": "display_data"
    }
   ],
   "source": [
    "plt.figure(figsize = (15,4))\n",
    "pd.Series(df['START']).value_counts()[:25].plot(kind=\"bar\")\n",
    "plt.title(\"Start Location frequency of cab rides\")\n",
    "plt.xticks(rotation = 45);"
   ]
  },
  {
   "cell_type": "markdown",
   "metadata": {},
   "source": [
    "### Round Trips "
   ]
  },
  {
   "cell_type": "markdown",
   "metadata": {},
   "source": [
    "**Calculating the round trips(start=stop)**"
   ]
  },
  {
   "cell_type": "code",
   "execution_count": 35,
   "metadata": {},
   "outputs": [],
   "source": [
    "def round(x):\n",
    "    if x['START'] == x['STOP']:\n",
    "        return 'YES'\n",
    "    else:\n",
    "        return 'NO'\n",
    "    \n",
    "df['Round_Trip'] = df.apply(round, axis=1)"
   ]
  },
  {
   "cell_type": "markdown",
   "metadata": {},
   "source": [
    "**Visualization of round trips**"
   ]
  },
  {
   "cell_type": "code",
   "execution_count": 36,
   "metadata": {
    "scrolled": false
   },
   "outputs": [
    {
     "name": "stdout",
     "output_type": "stream",
     "text": [
      "Total trips:  1155\n"
     ]
    },
    {
     "data": {
      "image/png": "[encoded data removed]",
      "text/plain": [
       "<Figure size 576x360 with 1 Axes>"
      ]
     },
     "metadata": {
      "needs_background": "light"
     },
     "output_type": "display_data"
    }
   ],
   "source": [
    "print('Total trips: ', df['Round_Trip'].count())\n",
    "#Visualizing the round trips\n",
    "plt.figure(figsize=(8,5))\n",
    "sns.countplot(df['Round_Trip'], order=df['Round_Trip'].value_counts().index,\n",
    "              color=sns.color_palette()[0])\n",
    "plt.title('Total Round Trips')\n",
    "plt.show()\n"
   ]
  },
  {
   "cell_type": "markdown",
   "metadata": {},
   "source": [
    "### Round Trip VS Month"
   ]
  },
  {
   "cell_type": "code",
   "execution_count": 42,
   "metadata": {},
   "outputs": [
    {
     "data": {
      "image/png": "[encoded data removed]",
      "text/plain": [
       "<Figure size 864x504 with 1 Axes>"
      ]
     },
     "metadata": {
      "needs_background": "light"
     },
     "output_type": "display_data"
    }
   ],
   "source": [
    "plt.figure(figsize=(12,7))\n",
    "a=sns.countplot(df['Round_Trip'],hue=df['MONTH'])\n",
    "plt.legend(bbox_to_anchor=(1.05, 0.95), loc=2)\n",
    "plt.show()"
   ]
  },
  {
   "cell_type": "markdown",
   "metadata": {},
   "source": [
    "**Which Hour has the Most number of trips**"
   ]
  },
  {
   "cell_type": "code",
   "execution_count": 44,
   "metadata": {},
   "outputs": [
    {
     "data": {
      "image/png": "[encoded data removed]",
      "text/plain": [
       "<Figure size 1080x576 with 1 Axes>"
      ]
     },
     "metadata": {
      "needs_background": "light"
     },
     "output_type": "display_data"
    }
   ],
   "source": [
    "plt.figure(figsize=(15,8))\n",
    "sns.countplot(df['START_DATE'].dt.hour,color=sns.color_palette()[0] ,\n",
    "              order = df['START_DATE'].dt.hour.value_counts().index)\n",
    "plt.show()"
   ]
  },
  {
   "cell_type": "markdown",
   "metadata": {},
   "source": [
    "### Day Ride vs Night Ride"
   ]
  },
  {
   "cell_type": "code",
   "execution_count": 59,
   "metadata": {},
   "outputs": [
    {
     "data": {
      "text/html": [
       "<div>\n",
       "<style scoped>\n",
       "    .dataframe tbody tr th:only-of-type {\n",
       "        vertical-align: middle;\n",
       "    }\n",
       "\n",
       "    .dataframe tbody tr th {\n",
       "        vertical-align: top;\n",
       "    }\n",
       "\n",
       "    .dataframe thead th {\n",
       "        text-align: right;\n",
       "    }\n",
       "</style>\n",
       "<table border=\"1\" class=\"dataframe\">\n",
       "  <thead>\n",
       "    <tr style=\"text-align: right;\">\n",
       "      <th></th>\n",
       "      <th>START_DATE</th>\n",
       "      <th>END_DATE</th>\n",
       "      <th>CATEGORY</th>\n",
       "      <th>START</th>\n",
       "      <th>STOP</th>\n",
       "      <th>MILES</th>\n",
       "      <th>PURPOSE</th>\n",
       "      <th>MINUTES</th>\n",
       "      <th>MONTH</th>\n",
       "      <th>Hour</th>\n",
       "      <th>WEEKDAY</th>\n",
       "      <th>SPEED in KMPH</th>\n",
       "      <th>Round_Trip</th>\n",
       "      <th>DAY/NIGHT</th>\n",
       "      <th>MILES_BUCKET</th>\n",
       "      <th>MILES_RANGE</th>\n",
       "    </tr>\n",
       "  </thead>\n",
       "  <tbody>\n",
       "    <tr>\n",
       "      <th>0</th>\n",
       "      <td>2016-01-01 21:11:00</td>\n",
       "      <td>2016-01-01 21:17:00</td>\n",
       "      <td>Business</td>\n",
       "      <td>Fort Pierce</td>\n",
       "      <td>Fort Pierce</td>\n",
       "      <td>5.1</td>\n",
       "      <td>Meal/Entertain</td>\n",
       "      <td>6.0</td>\n",
       "      <td>Jan</td>\n",
       "      <td>21</td>\n",
       "      <td>Friday</td>\n",
       "      <td>51.000000</td>\n",
       "      <td>YES</td>\n",
       "      <td>Night Ride</td>\n",
       "      <td>0-10 miles</td>\n",
       "      <td>0-10 miles</td>\n",
       "    </tr>\n",
       "    <tr>\n",
       "      <th>1</th>\n",
       "      <td>2016-01-02 01:25:00</td>\n",
       "      <td>2016-01-02 01:37:00</td>\n",
       "      <td>Business</td>\n",
       "      <td>Fort Pierce</td>\n",
       "      <td>Fort Pierce</td>\n",
       "      <td>5.0</td>\n",
       "      <td>Meal/Entertain</td>\n",
       "      <td>12.0</td>\n",
       "      <td>Jan</td>\n",
       "      <td>1</td>\n",
       "      <td>Saturday</td>\n",
       "      <td>25.000000</td>\n",
       "      <td>YES</td>\n",
       "      <td>Day Ride</td>\n",
       "      <td>0-10 miles</td>\n",
       "      <td>0-10 miles</td>\n",
       "    </tr>\n",
       "    <tr>\n",
       "      <th>2</th>\n",
       "      <td>2016-01-02 20:25:00</td>\n",
       "      <td>2016-01-02 20:38:00</td>\n",
       "      <td>Business</td>\n",
       "      <td>Fort Pierce</td>\n",
       "      <td>Fort Pierce</td>\n",
       "      <td>4.8</td>\n",
       "      <td>Errand/Supplies</td>\n",
       "      <td>13.0</td>\n",
       "      <td>Jan</td>\n",
       "      <td>20</td>\n",
       "      <td>Saturday</td>\n",
       "      <td>22.153846</td>\n",
       "      <td>YES</td>\n",
       "      <td>Night Ride</td>\n",
       "      <td>0-10 miles</td>\n",
       "      <td>0-10 miles</td>\n",
       "    </tr>\n",
       "    <tr>\n",
       "      <th>3</th>\n",
       "      <td>2016-01-05 17:31:00</td>\n",
       "      <td>2016-01-05 17:45:00</td>\n",
       "      <td>Business</td>\n",
       "      <td>Fort Pierce</td>\n",
       "      <td>Fort Pierce</td>\n",
       "      <td>4.7</td>\n",
       "      <td>Meeting</td>\n",
       "      <td>14.0</td>\n",
       "      <td>Jan</td>\n",
       "      <td>17</td>\n",
       "      <td>Tuesday</td>\n",
       "      <td>20.142857</td>\n",
       "      <td>YES</td>\n",
       "      <td>Day Ride</td>\n",
       "      <td>0-10 miles</td>\n",
       "      <td>0-10 miles</td>\n",
       "    </tr>\n",
       "    <tr>\n",
       "      <th>4</th>\n",
       "      <td>2016-01-06 14:42:00</td>\n",
       "      <td>2016-01-06 15:49:00</td>\n",
       "      <td>Business</td>\n",
       "      <td>Fort Pierce</td>\n",
       "      <td>West Palm Beach</td>\n",
       "      <td>63.7</td>\n",
       "      <td>Customer Visit</td>\n",
       "      <td>67.0</td>\n",
       "      <td>Jan</td>\n",
       "      <td>14</td>\n",
       "      <td>Wednesday</td>\n",
       "      <td>57.044776</td>\n",
       "      <td>NO</td>\n",
       "      <td>Day Ride</td>\n",
       "      <td>Above 50 miles</td>\n",
       "      <td>Above 50 miles</td>\n",
       "    </tr>\n",
       "  </tbody>\n",
       "</table>\n",
       "</div>"
      ],
      "text/plain": [
       "           START_DATE            END_DATE  CATEGORY        START  \\\n",
       "0 2016-01-01 21:11:00 2016-01-01 21:17:00  Business  Fort Pierce   \n",
       "1 2016-01-02 01:25:00 2016-01-02 01:37:00  Business  Fort Pierce   \n",
       "2 2016-01-02 20:25:00 2016-01-02 20:38:00  Business  Fort Pierce   \n",
       "3 2016-01-05 17:31:00 2016-01-05 17:45:00  Business  Fort Pierce   \n",
       "4 2016-01-06 14:42:00 2016-01-06 15:49:00  Business  Fort Pierce   \n",
       "\n",
       "              STOP  MILES          PURPOSE  MINUTES MONTH  Hour    WEEKDAY  \\\n",
       "0      Fort Pierce    5.1   Meal/Entertain      6.0   Jan    21     Friday   \n",
       "1      Fort Pierce    5.0   Meal/Entertain     12.0   Jan     1   Saturday   \n",
       "2      Fort Pierce    4.8  Errand/Supplies     13.0   Jan    20   Saturday   \n",
       "3      Fort Pierce    4.7          Meeting     14.0   Jan    17    Tuesday   \n",
       "4  West Palm Beach   63.7   Customer Visit     67.0   Jan    14  Wednesday   \n",
       "\n",
       "   SPEED in KMPH Round_Trip   DAY/NIGHT    MILES_BUCKET     MILES_RANGE  \n",
       "0      51.000000        YES  Night Ride      0-10 miles      0-10 miles  \n",
       "1      25.000000        YES    Day Ride      0-10 miles      0-10 miles  \n",
       "2      22.153846        YES  Night Ride      0-10 miles      0-10 miles  \n",
       "3      20.142857        YES    Day Ride      0-10 miles      0-10 miles  \n",
       "4      57.044776         NO    Day Ride  Above 50 miles  Above 50 miles  "
      ]
     },
     "execution_count": 59,
     "metadata": {},
     "output_type": "execute_result"
    }
   ],
   "source": [
    "b= pd.to_datetime(['18:00:00']).time\n",
    "\n",
    "df['DAY/NIGHT'] = df.apply(lambda x : 'Night Ride' if x['START_DATE'].time() > b else 'Day Ride', axis=1)\n",
    "\n",
    "df.head()"
   ]
  },
  {
   "cell_type": "code",
   "execution_count": 60,
   "metadata": {},
   "outputs": [
    {
     "data": {
      "image/png": "[encoded data removed]",
      "text/plain": [
       "<Figure size 432x288 with 1 Axes>"
      ]
     },
     "metadata": {
      "needs_background": "light"
     },
     "output_type": "display_data"
    }
   ],
   "source": [
    "sns.countplot(df['DAY/NIGHT'], color=sns.color_palette()[0] , \n",
    "              order = df['DAY/NIGHT'].value_counts().index)\n",
    "\n",
    "plt.show()"
   ]
  },
  {
   "cell_type": "markdown",
   "metadata": {},
   "source": [
    "### Range of Miles"
   ]
  },
  {
   "cell_type": "code",
   "execution_count": 61,
   "metadata": {},
   "outputs": [
    {
     "data": {
      "text/html": [
       "<div>\n",
       "<style scoped>\n",
       "    .dataframe tbody tr th:only-of-type {\n",
       "        vertical-align: middle;\n",
       "    }\n",
       "\n",
       "    .dataframe tbody tr th {\n",
       "        vertical-align: top;\n",
       "    }\n",
       "\n",
       "    .dataframe thead th {\n",
       "        text-align: right;\n",
       "    }\n",
       "</style>\n",
       "<table border=\"1\" class=\"dataframe\">\n",
       "  <thead>\n",
       "    <tr style=\"text-align: right;\">\n",
       "      <th></th>\n",
       "      <th>START_DATE</th>\n",
       "      <th>END_DATE</th>\n",
       "      <th>CATEGORY</th>\n",
       "      <th>START</th>\n",
       "      <th>STOP</th>\n",
       "      <th>MILES</th>\n",
       "      <th>PURPOSE</th>\n",
       "      <th>MINUTES</th>\n",
       "      <th>MONTH</th>\n",
       "      <th>Hour</th>\n",
       "      <th>WEEKDAY</th>\n",
       "      <th>SPEED in KMPH</th>\n",
       "      <th>Round_Trip</th>\n",
       "      <th>DAY/NIGHT</th>\n",
       "      <th>MILES_BUCKET</th>\n",
       "      <th>MILES_RANGE</th>\n",
       "    </tr>\n",
       "  </thead>\n",
       "  <tbody>\n",
       "    <tr>\n",
       "      <th>0</th>\n",
       "      <td>2016-01-01 21:11:00</td>\n",
       "      <td>2016-01-01 21:17:00</td>\n",
       "      <td>Business</td>\n",
       "      <td>Fort Pierce</td>\n",
       "      <td>Fort Pierce</td>\n",
       "      <td>5.1</td>\n",
       "      <td>Meal/Entertain</td>\n",
       "      <td>6.0</td>\n",
       "      <td>Jan</td>\n",
       "      <td>21</td>\n",
       "      <td>Friday</td>\n",
       "      <td>51.000000</td>\n",
       "      <td>YES</td>\n",
       "      <td>Night Ride</td>\n",
       "      <td>0-10 miles</td>\n",
       "      <td>0-10 miles</td>\n",
       "    </tr>\n",
       "    <tr>\n",
       "      <th>1</th>\n",
       "      <td>2016-01-02 01:25:00</td>\n",
       "      <td>2016-01-02 01:37:00</td>\n",
       "      <td>Business</td>\n",
       "      <td>Fort Pierce</td>\n",
       "      <td>Fort Pierce</td>\n",
       "      <td>5.0</td>\n",
       "      <td>Meal/Entertain</td>\n",
       "      <td>12.0</td>\n",
       "      <td>Jan</td>\n",
       "      <td>1</td>\n",
       "      <td>Saturday</td>\n",
       "      <td>25.000000</td>\n",
       "      <td>YES</td>\n",
       "      <td>Day Ride</td>\n",
       "      <td>0-10 miles</td>\n",
       "      <td>0-10 miles</td>\n",
       "    </tr>\n",
       "    <tr>\n",
       "      <th>2</th>\n",
       "      <td>2016-01-02 20:25:00</td>\n",
       "      <td>2016-01-02 20:38:00</td>\n",
       "      <td>Business</td>\n",
       "      <td>Fort Pierce</td>\n",
       "      <td>Fort Pierce</td>\n",
       "      <td>4.8</td>\n",
       "      <td>Errand/Supplies</td>\n",
       "      <td>13.0</td>\n",
       "      <td>Jan</td>\n",
       "      <td>20</td>\n",
       "      <td>Saturday</td>\n",
       "      <td>22.153846</td>\n",
       "      <td>YES</td>\n",
       "      <td>Night Ride</td>\n",
       "      <td>0-10 miles</td>\n",
       "      <td>0-10 miles</td>\n",
       "    </tr>\n",
       "    <tr>\n",
       "      <th>3</th>\n",
       "      <td>2016-01-05 17:31:00</td>\n",
       "      <td>2016-01-05 17:45:00</td>\n",
       "      <td>Business</td>\n",
       "      <td>Fort Pierce</td>\n",
       "      <td>Fort Pierce</td>\n",
       "      <td>4.7</td>\n",
       "      <td>Meeting</td>\n",
       "      <td>14.0</td>\n",
       "      <td>Jan</td>\n",
       "      <td>17</td>\n",
       "      <td>Tuesday</td>\n",
       "      <td>20.142857</td>\n",
       "      <td>YES</td>\n",
       "      <td>Day Ride</td>\n",
       "      <td>0-10 miles</td>\n",
       "      <td>0-10 miles</td>\n",
       "    </tr>\n",
       "    <tr>\n",
       "      <th>4</th>\n",
       "      <td>2016-01-06 14:42:00</td>\n",
       "      <td>2016-01-06 15:49:00</td>\n",
       "      <td>Business</td>\n",
       "      <td>Fort Pierce</td>\n",
       "      <td>West Palm Beach</td>\n",
       "      <td>63.7</td>\n",
       "      <td>Customer Visit</td>\n",
       "      <td>67.0</td>\n",
       "      <td>Jan</td>\n",
       "      <td>14</td>\n",
       "      <td>Wednesday</td>\n",
       "      <td>57.044776</td>\n",
       "      <td>NO</td>\n",
       "      <td>Day Ride</td>\n",
       "      <td>Above 50 miles</td>\n",
       "      <td>Above 50 miles</td>\n",
       "    </tr>\n",
       "  </tbody>\n",
       "</table>\n",
       "</div>"
      ],
      "text/plain": [
       "           START_DATE            END_DATE  CATEGORY        START  \\\n",
       "0 2016-01-01 21:11:00 2016-01-01 21:17:00  Business  Fort Pierce   \n",
       "1 2016-01-02 01:25:00 2016-01-02 01:37:00  Business  Fort Pierce   \n",
       "2 2016-01-02 20:25:00 2016-01-02 20:38:00  Business  Fort Pierce   \n",
       "3 2016-01-05 17:31:00 2016-01-05 17:45:00  Business  Fort Pierce   \n",
       "4 2016-01-06 14:42:00 2016-01-06 15:49:00  Business  Fort Pierce   \n",
       "\n",
       "              STOP  MILES          PURPOSE  MINUTES MONTH  Hour    WEEKDAY  \\\n",
       "0      Fort Pierce    5.1   Meal/Entertain      6.0   Jan    21     Friday   \n",
       "1      Fort Pierce    5.0   Meal/Entertain     12.0   Jan     1   Saturday   \n",
       "2      Fort Pierce    4.8  Errand/Supplies     13.0   Jan    20   Saturday   \n",
       "3      Fort Pierce    4.7          Meeting     14.0   Jan    17    Tuesday   \n",
       "4  West Palm Beach   63.7   Customer Visit     67.0   Jan    14  Wednesday   \n",
       "\n",
       "   SPEED in KMPH Round_Trip   DAY/NIGHT    MILES_BUCKET     MILES_RANGE  \n",
       "0      51.000000        YES  Night Ride      0-10 miles      0-10 miles  \n",
       "1      25.000000        YES    Day Ride      0-10 miles      0-10 miles  \n",
       "2      22.153846        YES  Night Ride      0-10 miles      0-10 miles  \n",
       "3      20.142857        YES    Day Ride      0-10 miles      0-10 miles  \n",
       "4      57.044776         NO    Day Ride  Above 50 miles  Above 50 miles  "
      ]
     },
     "execution_count": 61,
     "metadata": {},
     "output_type": "execute_result"
    }
   ],
   "source": [
    "f = {}\n",
    "\n",
    "for i in df['MILES']:\n",
    "    for i in df['MILES']:\n",
    "        if i < 10:\n",
    "            f.setdefault(i,'0-10 miles')\n",
    "        elif i >= 10 and i < 20:\n",
    "            f.setdefault(i,'10-20 miles')\n",
    "        elif i >= 20 and i < 30:\n",
    "            f.setdefault(i,'20-30 miles')\n",
    "        elif i >= 30 and i < 40:\n",
    "            f.setdefault(i,'30-40 miles')\n",
    "        elif i >= 40 and i < 50:\n",
    "            f.setdefault(i,'40-50 miles')\n",
    "        else:\n",
    "            f.setdefault(i,'Above 50 miles')\n",
    "            \n",
    "df['MILES_RANGE'] = df['MILES'].map(f)\n",
    "df.head()"
   ]
  },
  {
   "cell_type": "code",
   "execution_count": 62,
   "metadata": {},
   "outputs": [
    {
     "data": {
      "image/png": "[encoded data removed]",
      "text/plain": [
       "<Figure size 432x288 with 1 Axes>"
      ]
     },
     "metadata": {
      "needs_background": "light"
     },
     "output_type": "display_data"
    }
   ],
   "source": [
    "sns.histplot(df['MILES_RANGE'])\n",
    "plt.xticks(rotation=45)\n",
    "plt.show()"
   ]
  }
 ],
 "metadata": {
  "colab": {
   "name": "Uber analysis.ipynb",
   "provenance": []
  },
  "kernelspec": {
   "display_name": "Python 3",
   "language": "python",
   "name": "python3"
  },
  "language_info": {
   "codemirror_mode": {
    "name": "ipython",
    "version": 3
   },
   "file_extension": ".py",
   "mimetype": "text/x-python",
   "name": "python",
   "nbconvert_exporter": "python",
   "pygments_lexer": "ipython3",
   "version": "3.8.10"
  }
 },
 "nbformat": 4,
 "nbformat_minor": 1
}
